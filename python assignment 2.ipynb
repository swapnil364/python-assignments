{
 "cells": [
  {
   "cell_type": "markdown",
   "metadata": {},
   "source": [
    "# 1.1 Write a Python Program to implement your own myreduce() function which works exactly like Python's built-in function reduce()"
   ]
  },
  {
   "cell_type": "code",
   "execution_count": 21,
   "metadata": {},
   "outputs": [
    {
     "name": "stdout",
     "output_type": "stream",
     "text": [
      "20\n"
     ]
    }
   ],
   "source": [
    "def myreduce(func, iterable):\n",
    "    iterable = iter(iterable)\n",
    "    val = next(iterable)\n",
    "    for i in iterable:\n",
    "        val = func(val, i)\n",
    "    return val\n",
    "\n",
    "def sum(a,b):\n",
    "    return a+b\n",
    "\n",
    "lst=[2,3,4,5,6]\n",
    "print(myreduce(sum,lst))"
   ]
  },
  {
   "cell_type": "markdown",
   "metadata": {},
   "source": [
    "# 1.2 Write a Python program to implement your own myfilter() function which works exactly like Python's built-in function filter() "
   ]
  },
  {
   "cell_type": "code",
   "execution_count": 37,
   "metadata": {},
   "outputs": [
    {
     "name": "stdout",
     "output_type": "stream",
     "text": [
      "[2, 4, 6]\n",
      "['a']\n"
     ]
    }
   ],
   "source": [
    "def myfilter(func, iterable):\n",
    "    iterable = iter(iterable)\n",
    "    res = []\n",
    "    for i in iterable:\n",
    "        if func(i):\n",
    "            res.append(i)\n",
    "    return iter(res)\n",
    "\n",
    "print(list(myfilter(lambda x: x%2==0, [2,1,4,5,6])))\n",
    "\n",
    "print(list(myfilter(lambda  x: x in ['a','e','i','o','u'], 'abc')))"
   ]
  },
  {
   "cell_type": "markdown",
   "metadata": {},
   "source": [
    "# 2. Implement List comprehensions to produce the following lists.\n",
    "\n",
    "### Write List comprehensions to produce the following Lists"
   ]
  },
  {
   "cell_type": "code",
   "execution_count": 49,
   "metadata": {},
   "outputs": [
    {
     "name": "stdout",
     "output_type": "stream",
     "text": [
      "['A', 'C', 'A', 'D', 'G', 'I', 'L', 'D']\n"
     ]
    }
   ],
   "source": [
    "# ['A', 'C', 'A', 'D', 'G', 'I', 'L', 'D']\n",
    "\n",
    "lst = [i for i in 'ACADGILD']\n",
    "print(lst)"
   ]
  },
  {
   "cell_type": "code",
   "execution_count": 39,
   "metadata": {},
   "outputs": [
    {
     "name": "stdout",
     "output_type": "stream",
     "text": [
      "['x', 'xx', 'xxx', 'xxxx', 'y', 'yy', 'yyy', 'yyyy', 'z', 'zz', 'zzz', 'zzzz']\n"
     ]
    }
   ],
   "source": [
    "# ['x', 'xx', 'xxx', 'xxxx', 'y', 'yy', 'yyy', 'yyyy', 'z', 'zz', 'zzz', 'zzzz']\n",
    "\n",
    "lst = [i*j for i in ['x','y','z'] for j in range(1,5)]\n",
    "print(lst)"
   ]
  },
  {
   "cell_type": "code",
   "execution_count": 40,
   "metadata": {},
   "outputs": [
    {
     "name": "stdout",
     "output_type": "stream",
     "text": [
      "['x', 'y', 'z', 'xx', 'yy', 'zz', 'xxx', 'yyy', 'zzz', 'xxxx', 'yyyy', 'zzzz']\n"
     ]
    }
   ],
   "source": [
    "# ['x', 'y', 'z', 'xx', 'yy', 'zz', 'xxx', 'yyy', 'zzz', 'xxxx', 'yyyy', 'zzzz']\n",
    "\n",
    "lst = [i*j for i in range(1,5) for j in ['x','y','z']]\n",
    "print(lst)"
   ]
  },
  {
   "cell_type": "code",
   "execution_count": 42,
   "metadata": {},
   "outputs": [
    {
     "name": "stdout",
     "output_type": "stream",
     "text": [
      "[[2], [3], [4], [3], [4], [5], [4], [5], [6]]\n"
     ]
    }
   ],
   "source": [
    "# [[2], [3], [4], [3], [4], [5], [4], [5], [6]\n",
    "\n",
    "lst = [[j] for i in range(3) for j in range(2+i,2+i+3)]\n",
    "print(lst)"
   ]
  },
  {
   "cell_type": "code",
   "execution_count": 46,
   "metadata": {},
   "outputs": [
    {
     "name": "stdout",
     "output_type": "stream",
     "text": [
      "[[2, 3, 4, 5], [3, 4, 5, 6], [4, 5, 6, 7], [5, 6, 7, 8]]\n"
     ]
    }
   ],
   "source": [
    "# [[2, 3, 4, 5], [3, 4, 5, 6],[4, 5, 6, 7], [5, 6, 7, 8]\n",
    "\n",
    "lst = [[j for j in range(2+i, 2+i+4)] for i in range(4)]\n",
    "print(lst)"
   ]
  },
  {
   "cell_type": "code",
   "execution_count": 48,
   "metadata": {},
   "outputs": [
    {
     "name": "stdout",
     "output_type": "stream",
     "text": [
      "[(1, 1), (2, 1), (3, 1), (1, 2), (2, 2), (3, 2), (1, 3), (2, 3), (3, 3)]\n"
     ]
    }
   ],
   "source": [
    "# [(1, 1), (2, 1), (3, 1), (1, 2), (2, 2), (3, 2), (1, 3), (2, 3), (3, 3)]\n",
    "\n",
    "lst = [(j, i) for i in range(1, 4) for j in range(1, 4)]\n",
    "print(lst)"
   ]
  },
  {
   "cell_type": "markdown",
   "metadata": {},
   "source": [
    "# Write a Python Program(with class concepts) to find the area of the triangle using the belowformula.area = (s*(s-a)*(s-b)*(s-c)) ** 0.5Function to take the length of the sides of triangle from user should be defined in the parentclass and function to calculate the area should be d"
   ]
  },
  {
   "cell_type": "code",
   "execution_count": 6,
   "metadata": {},
   "outputs": [
    {
     "name": "stdout",
     "output_type": "stream",
     "text": [
      "enter the side12\n",
      "enter the side13\n",
      "enter the side14\n",
      "area is 63.166446789415026\n"
     ]
    }
   ],
   "source": [
    "class Triangle:\n",
    "    def __init__(self,a,b,c):\n",
    "        self.a=a\n",
    "        self.b=b\n",
    "        self.c=c\n",
    "        self.s=(a+b+c)//2\n",
    "class Demo(Triangle):\n",
    "    def __init__(self,a,b,c):\n",
    "        super().__init__(a,b,c)\n",
    "    \n",
    "    def area(self):\n",
    "        return (self.s*(self.s-self.a)*(self.s-self.b)*(self.s-self.c)) ** 0.5\n",
    "    \n",
    "driver=Demo(float(input('enter the side')),float(input('enter the side')),float(input('enter the side')))\n",
    "    \n",
    "print(f'area is {driver.area()}')    "
   ]
  },
  {
   "cell_type": "markdown",
   "metadata": {},
   "source": [
    "# 2Write a function filter_long_words() that takes a list of words and an integer n and returns the listof words that are longer than n."
   ]
  },
  {
   "cell_type": "code",
   "execution_count": 10,
   "metadata": {},
   "outputs": [
    {
     "name": "stdout",
     "output_type": "stream",
     "text": [
      "mango fruiti swapnil koushik koustav sandhya asob\n",
      "enter the length5\n",
      "['fruiti', 'swapnil', 'koushik', 'koustav', 'sandhya']\n"
     ]
    }
   ],
   "source": [
    "arr=list(map(str,input().split()))\n",
    "n=int(input('enter the length'))\n",
    "def filter_words(arr,n):\n",
    "    return [ls for ls in arr if len(ls)>n]\n",
    "print(filter_words(arr,n))"
   ]
  },
  {
   "cell_type": "markdown",
   "metadata": {},
   "source": [
    "# Write a Python program using function concept that maps  list of words into a list of integersrepresenting the lengths of the corresponding words​"
   ]
  },
  {
   "cell_type": "code",
   "execution_count": 12,
   "metadata": {},
   "outputs": [
    {
     "name": "stdout",
     "output_type": "stream",
     "text": [
      "mango fruiti swpanil agagjgajngjagj\n",
      "[5, 6, 7, 14]\n"
     ]
    }
   ],
   "source": [
    "arr=list(map(str,input().split()))\n",
    "def demo(arr):\n",
    "    return [len(ls) for ls in arr]\n",
    "print(demo(arr))"
   ]
  },
  {
   "cell_type": "markdown",
   "metadata": {},
   "source": [
    "# Write a Python function which takes a character (i.e. a string of length 1) and returns True if it isa vowel, False otherwise"
   ]
  },
  {
   "cell_type": "code",
   "execution_count": 13,
   "metadata": {},
   "outputs": [
    {
     "name": "stdout",
     "output_type": "stream",
     "text": [
      "a\n",
      "True\n"
     ]
    }
   ],
   "source": [
    "char=input()\n",
    "vowel=['a','e','i','o','u']\n",
    "if char in vowel:\n",
    "    print('True')\n",
    "else:\n",
    "    print('False')"
   ]
  },
  {
   "cell_type": "code",
   "execution_count": null,
   "metadata": {},
   "outputs": [],
   "source": []
  }
 ],
 "metadata": {
  "kernelspec": {
   "display_name": "Python 3",
   "language": "python",
   "name": "python3"
  },
  "language_info": {
   "codemirror_mode": {
    "name": "ipython",
    "version": 3
   },
   "file_extension": ".py",
   "mimetype": "text/x-python",
   "name": "python",
   "nbconvert_exporter": "python",
   "pygments_lexer": "ipython3",
   "version": "3.7.6"
  }
 },
 "nbformat": 4,
 "nbformat_minor": 4
}
