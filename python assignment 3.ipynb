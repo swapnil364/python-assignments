{
 "cells": [
  {
   "cell_type": "markdown",
   "metadata": {},
   "source": [
    "# 1.Write a function to compute 5/0 and use try/except to catch the exception"
   ]
  },
  {
   "cell_type": "code",
   "execution_count": 3,
   "metadata": {},
   "outputs": [
    {
     "name": "stdout",
     "output_type": "stream",
     "text": [
      "cannot divide by zero\n"
     ]
    }
   ],
   "source": [
    "def division(x,y):\n",
    "    try:\n",
    "        res=x//y\n",
    "        print('your division is successfull')\n",
    "    except Exception:\n",
    "        print('cannot divide by zero')\n",
    "division(5,0)"
   ]
  },
  {
   "cell_type": "markdown",
   "metadata": {},
   "source": [
    "# 2.Implement a Python program to generate all sentences where subject is in [\"Americans\",\"Indians\"] and verb is in [\"Play\", \"watch\"] and the object is in [\"Baseball\",\"cricket\"].Hint: Subject,Verb and Object should be declared in the program as shown b"
   ]
  },
  {
   "cell_type": "code",
   "execution_count": 4,
   "metadata": {},
   "outputs": [
    {
     "name": "stdout",
     "output_type": "stream",
     "text": [
      "Americans play baseball \n",
      "Americans play cricket \n",
      "Americans watch baseball \n",
      "Americans watch cricket \n",
      "Indians play baseball \n",
      "Indians play cricket \n",
      "Indians watch baseball \n",
      "Indians watch cricket \n"
     ]
    }
   ],
   "source": [
    "subjects=['Americans','Indians']\n",
    "verbs=['play','watch']\n",
    "objects=['baseball','cricket']\n",
    "for sub in subjects:\n",
    "    for vb in verbs:\n",
    "        for ob in objects:\n",
    "            print(f\"{sub } {vb } {ob } \")"
   ]
  },
  {
   "cell_type": "markdown",
   "metadata": {},
   "source": [
    "# Task 2:1.Write a function so that the columns of the output matrix are powers of the input vector.Theorderofthepowersisdeterminedbytheincreasingbooleanargument.Specifically,whenincreasingisFalse,thei-thoutputcolumnistheinputvectorraisedelement-wisetothepowerof N - i - 1."
   ]
  },
  {
   "cell_type": "code",
   "execution_count": 14,
   "metadata": {},
   "outputs": [
    {
     "data": {
      "text/plain": [
       "array([[  1,   1,   1,   1],\n",
       "       [  8,   4,   2,   1],\n",
       "       [ 27,   9,   3,   1],\n",
       "       [125,  25,   5,   1]])"
      ]
     },
     "execution_count": 14,
     "metadata": {},
     "output_type": "execute_result"
    }
   ],
   "source": [
    "import numpy as np\n",
    "def vander(x,increasing=False,N=None):\n",
    "    if N==None:\n",
    "        N=len(x)\n",
    "    if increasing:\n",
    "        lst=[[x[i]**j for j in range(N)]for i in range(N)]\n",
    "    else:\n",
    "        lst=[[x[i]**(N-(j+1)) for j in range(N)]for i in range(N)]\n",
    "    return np.array(lst)\n",
    "        \n",
    "vander([1,2,3,5])"
   ]
  },
  {
   "cell_type": "code",
   "execution_count": null,
   "metadata": {},
   "outputs": [],
   "source": []
  }
 ],
 "metadata": {
  "kernelspec": {
   "display_name": "Python 3",
   "language": "python",
   "name": "python3"
  },
  "language_info": {
   "codemirror_mode": {
    "name": "ipython",
    "version": 3
   },
   "file_extension": ".py",
   "mimetype": "text/x-python",
   "name": "python",
   "nbconvert_exporter": "python",
   "pygments_lexer": "ipython3",
   "version": "3.7.6"
  }
 },
 "nbformat": 4,
 "nbformat_minor": 4
}
